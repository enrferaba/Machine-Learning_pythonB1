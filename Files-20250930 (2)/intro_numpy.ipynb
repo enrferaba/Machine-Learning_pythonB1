{
 "cells": [
  {
   "cell_type": "markdown",
   "id": "48d4f3fa",
   "metadata": {},
   "source": [
    "This notebook is just a tiny sample of what can be done with NumPy. It is strongly recommended to consult the official documentation."
   ]
  },
  {
   "cell_type": "code",
   "execution_count": null,
   "id": "bd8681bb",
   "metadata": {},
   "outputs": [],
   "source": [
    "# Import the library NumPy and called it as np\n",
    "import numpy as np"
   ]
  },
  {
   "cell_type": "code",
   "execution_count": null,
   "id": "133d8b00",
   "metadata": {},
   "outputs": [],
   "source": [
    "# array from a list\n",
    "l = [2,4,5,6]\n",
    "l_array = np.array(l)\n",
    "print(l_array)"
   ]
  },
  {
   "cell_type": "code",
   "execution_count": null,
   "id": "e4ea6246",
   "metadata": {},
   "outputs": [],
   "source": [
    "# array using range function\n",
    "ar = np.arange(0,10)\n",
    "print(ar)"
   ]
  },
  {
   "cell_type": "code",
   "execution_count": null,
   "id": "6ad42427",
   "metadata": {},
   "outputs": [],
   "source": [
    "# array of zeros given a size or a tuple (rows,columns)\n",
    "ar = np.zeros(7)\n",
    "print(ar)\n",
    "ar = np.zeros((2,3))\n",
    "print(ar)"
   ]
  },
  {
   "cell_type": "code",
   "execution_count": null,
   "id": "10cd82cb",
   "metadata": {},
   "outputs": [],
   "source": [
    "# array of ones given a size or a tuple (rows,columns)\n",
    "ar = np.ones(7)\n",
    "print(ar)\n",
    "ar = np.ones((2,3))\n",
    "print(ar)"
   ]
  },
  {
   "cell_type": "code",
   "execution_count": null,
   "id": "54bc0ae7",
   "metadata": {},
   "outputs": [],
   "source": [
    "# array dividing the range of a to b in c intervals --> np.linspace(a,b,c)\n",
    "ar = np.linspace(1,10,4)\n",
    "print(ar)"
   ]
  },
  {
   "cell_type": "code",
   "execution_count": null,
   "id": "4396c406",
   "metadata": {},
   "outputs": [],
   "source": [
    "# identity matrix of order n\n",
    "m = np.eye(4)\n",
    "print(m)"
   ]
  },
  {
   "cell_type": "code",
   "execution_count": null,
   "id": "bda3d37a",
   "metadata": {},
   "outputs": [],
   "source": [
    "# random array of n elements between 0-1\n",
    "ar = np.random.rand(7)\n",
    "print(ar)\n",
    "# random matrix of rows x columns elements between 0-1\n",
    "m = np.random.rand(2,4)\n",
    "print(m)"
   ]
  },
  {
   "cell_type": "code",
   "execution_count": null,
   "id": "6fe30ce5",
   "metadata": {},
   "outputs": [],
   "source": [
    "# a sample (or samples) from the “standard normal” distribution.\n",
    "ar = np.random.randn(7)\n",
    "print(ar)\n",
    "# random matrix of rows x columns elements between 0-1\n",
    "m = np.random.randn(2,4)\n",
    "print(m)"
   ]
  },
  {
   "cell_type": "code",
   "execution_count": null,
   "id": "2f84cb87",
   "metadata": {},
   "outputs": [],
   "source": [
    "# random integer array of n elements between [a-b)\n",
    "ar = np.random.randint(2,5,10) # a = 2, b = 5, n = 10\n",
    "print(ar)\n",
    "# random integer matrix of rows x cols elements between [a-b)\n",
    "m = np.random.randint(2,5,(3,3)) # a = 2, b = 5, rows = 3, cols = 3\n",
    "print(m)"
   ]
  },
  {
   "cell_type": "code",
   "execution_count": null,
   "id": "94b111ba",
   "metadata": {},
   "outputs": [],
   "source": [
    "# return the shape of an array\n",
    "print(ar.shape)\n",
    "print(m.shape)"
   ]
  },
  {
   "cell_type": "code",
   "execution_count": null,
   "id": "8b39743b",
   "metadata": {},
   "outputs": [],
   "source": [
    "# reshape an array\n",
    "print(ar.reshape(5,2)) # it does not change ar\n",
    "print(ar)"
   ]
  },
  {
   "cell_type": "code",
   "execution_count": null,
   "id": "048bda90",
   "metadata": {},
   "outputs": [],
   "source": [
    "# max value\n",
    "print(ar.max())\n",
    "# arg max value\n",
    "print(ar.argmax()) # returns the index of the first appearance\n",
    "# min value\n",
    "print(ar.min())\n",
    "# arg min value\n",
    "print(ar.argmin()) # returns the index of the first appearance"
   ]
  },
  {
   "cell_type": "code",
   "execution_count": null,
   "id": "0c572ebb",
   "metadata": {},
   "outputs": [],
   "source": [
    "# Be careful with the asignations, in Python everything is a reference\n",
    "ar2 = ar\n",
    "print(ar2)\n",
    "\n",
    "# if we made a change in ar2 it also affects to ar\n",
    "ar2[0]=100\n",
    "print(ar)\n",
    "print(ar2)\n",
    "\n",
    "# to avoid it, it is recommended to use .copy()\n",
    "ar2 = ar.copy()\n",
    "ar2[0] = 200\n",
    "print(ar)\n",
    "print(ar2)"
   ]
  },
  {
   "cell_type": "code",
   "execution_count": null,
   "id": "385e0f10",
   "metadata": {},
   "outputs": [],
   "source": [
    "# bolean array indicating which positions satisfy a condition\n",
    "print(ar>3)"
   ]
  },
  {
   "cell_type": "code",
   "execution_count": null,
   "id": "8d6dae22",
   "metadata": {},
   "outputs": [],
   "source": [
    "# Operations\n",
    "ar = np.random.randint(1,5,4)\n",
    "ar2 = np.random.randint(1,9,4)\n",
    "print(ar)\n",
    "print(ar2)\n",
    "print(\"Element by element\")\n",
    "print(\"Product: \",ar*ar2)\n",
    "print(\"Sum: \",ar+ar2)\n",
    "print(\"Division: \",ar/ar2)\n",
    "print(\"Difference: \",ar-ar2)\n",
    "print(\"Pow: \",ar**ar2)\n",
    "print(\"Adding a value: \", ar+10)"
   ]
  },
  {
   "cell_type": "code",
   "execution_count": null,
   "id": "dc60365e",
   "metadata": {},
   "outputs": [],
   "source": [
    "# square root\n",
    "print(np.sqrt(ar))\n",
    "\n",
    "# exponential\n",
    "print(np.exp(ar))\n",
    "\n",
    "# sin\n",
    "print(np.sin(ar))\n",
    "\n",
    "# log\n",
    "print(np.log(ar))\n",
    "\n",
    "# vectorial product\n",
    "print(ar.dot(ar2))"
   ]
  },
  {
   "cell_type": "code",
   "execution_count": null,
   "id": "4204d162",
   "metadata": {},
   "outputs": [],
   "source": []
  }
 ],
 "metadata": {
  "kernelspec": {
   "display_name": "Python 3 (ipykernel)",
   "language": "python",
   "name": "python3"
  },
  "language_info": {
   "codemirror_mode": {
    "name": "ipython",
    "version": 3
   },
   "file_extension": ".py",
   "mimetype": "text/x-python",
   "name": "python",
   "nbconvert_exporter": "python",
   "pygments_lexer": "ipython3",
   "version": "3.12.4"
  }
 },
 "nbformat": 4,
 "nbformat_minor": 5
}
