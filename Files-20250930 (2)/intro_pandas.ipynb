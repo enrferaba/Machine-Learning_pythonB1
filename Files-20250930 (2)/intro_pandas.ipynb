{
 "cells": [
  {
   "cell_type": "markdown",
   "id": "2ae10654",
   "metadata": {},
   "source": [
    "This notebook is just a tiny sample of what can be done with Pandas. It is strongly recommended to consult the official documentation."
   ]
  },
  {
   "cell_type": "code",
   "execution_count": null,
   "id": "bfc54ab3",
   "metadata": {},
   "outputs": [],
   "source": [
    "#import numpy and pandas\n",
    "import numpy as np\n",
    "import pandas as pd"
   ]
  },
  {
   "cell_type": "markdown",
   "id": "69609aad",
   "metadata": {},
   "source": [
    "### Series"
   ]
  },
  {
   "cell_type": "code",
   "execution_count": null,
   "id": "87ca1545",
   "metadata": {},
   "outputs": [],
   "source": [
    "# create a Series object\n",
    "# several options are available as input argument (see official documentation)\n",
    "my_series = pd.Series(data=np.random.randint(1,10,9))\n",
    "# my_series is an object of Series which two columns: labels and values\n",
    "print(my_series)"
   ]
  },
  {
   "cell_type": "code",
   "execution_count": null,
   "id": "da4132d3",
   "metadata": {},
   "outputs": [],
   "source": [
    "# operations\n",
    "my_series2 = pd.Series(data=np.random.randint(1,10,8))\n",
    "print(my_series2)\n",
    "\n",
    "# determine which elements are greater than 4\n",
    "print(my_series > 4)\n",
    "\n",
    "# put those elements equal to 2\n",
    "my_series[my_series > 4] = 2\n",
    "print(my_series)\n",
    "\n",
    "# sum of values: values of the same labels are added together while values of non-common labels are set as nan\n",
    "print(my_series+my_series2)"
   ]
  },
  {
   "cell_type": "markdown",
   "id": "6e185f23",
   "metadata": {},
   "source": [
    "### DataFrames"
   ]
  },
  {
   "cell_type": "code",
   "execution_count": null,
   "id": "833a49d2",
   "metadata": {},
   "outputs": [],
   "source": [
    "# A dataframe is like a table, where each row and column are labelled\n",
    "# In fact, each column is a Series object\n",
    "df = pd.DataFrame(data=np.random.rand(2,3),index=['rowA','rowB'],columns=['column1','column2','column3'])\n",
    "print(df)\n",
    "print(type(df))\n",
    "print(type(df['column1']))"
   ]
  },
  {
   "cell_type": "code",
   "execution_count": null,
   "id": "e537ec2f",
   "metadata": {},
   "outputs": [],
   "source": [
    "# add a new column\n",
    "df['column4'] = [2,3]\n",
    "df"
   ]
  },
  {
   "cell_type": "code",
   "execution_count": null,
   "id": "069eff01",
   "metadata": {},
   "outputs": [],
   "source": [
    "# drop a column\n",
    "# return a new DataFrame\n",
    "print(df.drop(['column1','column3'],axis=1))\n",
    "print(df)\n",
    "# changes the current DataFrame\n",
    "df.drop(['column1','column3'],axis=1,inplace=True)\n",
    "print(df)"
   ]
  },
  {
   "cell_type": "code",
   "execution_count": null,
   "id": "ebee4960",
   "metadata": {},
   "outputs": [],
   "source": [
    "# drop a row\n",
    "df = pd.DataFrame(data=np.random.rand(4,3),index=['rowA','rowB','rowC','rowD'],columns=['column1','column2','column3'])\n",
    "print(df)\n",
    "df.drop(['rowA','rowC'],axis=0,inplace=True)\n",
    "print(df)"
   ]
  },
  {
   "cell_type": "code",
   "execution_count": null,
   "id": "1e1a259e",
   "metadata": {},
   "outputs": [],
   "source": [
    "# return a column\n",
    "df['column1']"
   ]
  },
  {
   "cell_type": "code",
   "execution_count": null,
   "id": "364a54fc",
   "metadata": {},
   "outputs": [],
   "source": [
    "# return a row by its index\n",
    "df.loc['rowD']"
   ]
  },
  {
   "cell_type": "code",
   "execution_count": null,
   "id": "857e6966",
   "metadata": {},
   "outputs": [],
   "source": [
    "# return a row by its position\n",
    "df.iloc[0]"
   ]
  },
  {
   "cell_type": "code",
   "execution_count": null,
   "id": "71f37d3e",
   "metadata": {},
   "outputs": [],
   "source": [
    "# return a new df indicating which positions satisfy a condition\n",
    "print(df)\n",
    "print(df > 0.5)"
   ]
  },
  {
   "cell_type": "code",
   "execution_count": null,
   "id": "7752080d",
   "metadata": {},
   "outputs": [],
   "source": [
    "# Return the True values of a condition\n",
    "# & and | must be used instead of \"and\" and \"or\"\n",
    "df[(df > 0.5) & (df < 0.65)]"
   ]
  },
  {
   "cell_type": "code",
   "execution_count": null,
   "id": "195fcc3a",
   "metadata": {},
   "outputs": [],
   "source": [
    "# Include the index as a column and reset the index\n",
    "df.reset_index(inplace=True)\n",
    "print(df)"
   ]
  },
  {
   "cell_type": "code",
   "execution_count": null,
   "id": "67839ab1",
   "metadata": {},
   "outputs": [],
   "source": [
    "# convert a column to the index\n",
    "df.set_index('index',inplace=True)\n",
    "print(df)"
   ]
  },
  {
   "cell_type": "code",
   "execution_count": null,
   "id": "1fc4b504",
   "metadata": {},
   "outputs": [],
   "source": []
  }
 ],
 "metadata": {
  "kernelspec": {
   "display_name": "Python 3 (ipykernel)",
   "language": "python",
   "name": "python3"
  },
  "language_info": {
   "codemirror_mode": {
    "name": "ipython",
    "version": 3
   },
   "file_extension": ".py",
   "mimetype": "text/x-python",
   "name": "python",
   "nbconvert_exporter": "python",
   "pygments_lexer": "ipython3",
   "version": "3.12.4"
  }
 },
 "nbformat": 4,
 "nbformat_minor": 5
}
