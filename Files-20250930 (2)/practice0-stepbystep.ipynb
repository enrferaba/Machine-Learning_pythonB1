{
 "cells": [
  {
   "cell_type": "markdown",
   "id": "b8b2a864-df32-48c0-a086-bb6799fdc890",
   "metadata": {},
   "source": [
    "# Loading Data"
   ]
  },
  {
   "cell_type": "code",
   "execution_count": null,
   "id": "2036e91c",
   "metadata": {},
   "outputs": [],
   "source": [
    "import pandas as pd\n",
    "filename = \"ILPD.csv\"\n",
    "col_names = ['age', 'gen', 'tbili', 'dbili', 'alkphos', 'sgpt',\n",
    "             'sgot', 'tp', 'alb', 'ag', 'class']\n",
    "data = pd.read_csv(filename,names=col_names)"
   ]
  },
  {
   "cell_type": "code",
   "execution_count": null,
   "id": "d43ae6cf",
   "metadata": {},
   "outputs": [],
   "source": [
    "print(data)"
   ]
  },
  {
   "cell_type": "code",
   "execution_count": null,
   "id": "a3e8265e",
   "metadata": {},
   "outputs": [],
   "source": [
    "print(data.shape)"
   ]
  },
  {
   "cell_type": "code",
   "execution_count": null,
   "id": "0f5864b9",
   "metadata": {},
   "outputs": [],
   "source": [
    "data[['age', 'tbili', 'dbili', 'alkphos', 'sgpt',\n",
    "             'sgot', 'tp', 'alb', 'ag']].std()"
   ]
  },
  {
   "cell_type": "code",
   "execution_count": null,
   "id": "439d2cde",
   "metadata": {},
   "outputs": [],
   "source": [
    "data.max()"
   ]
  },
  {
   "cell_type": "code",
   "execution_count": null,
   "id": "06ebfbd0",
   "metadata": {},
   "outputs": [],
   "source": [
    "data[['age', 'tbili', 'dbili', 'alkphos', 'sgpt',\n",
    "             'sgot', 'tp', 'alb', 'ag']].quantile(0.25)"
   ]
  },
  {
   "cell_type": "markdown",
   "id": "8cb5dea1-8119-42cf-aedc-d00e75287368",
   "metadata": {},
   "source": [
    "# Visualization"
   ]
  },
  {
   "cell_type": "code",
   "execution_count": null,
   "id": "7d466d73",
   "metadata": {},
   "outputs": [],
   "source": [
    "import matplotlib.pyplot as plt\n",
    "\n",
    "import pandas as pd\n",
    "\n",
    "filename = \"ILPD.csv\"\n",
    "col_names = ['age', 'gen', 'tbili', 'dbili', 'alkphos', 'sgpt',\n",
    "             'sgot', 'tp', 'alb', 'ag', 'class']\n",
    "data = pd.read_csv(filename,names=col_names)\n",
    "\n",
    "input_data = data[data.columns[:-1]]\n",
    "# Histograms\n",
    "input_data.hist()\n",
    "# Density plots\n",
    "input_data.plot(kind='density',subplots=True, layout=(3,3), sharex=False)\n",
    "# Box plots\n",
    "input_data.plot(kind='box', subplots=True, layout=(3,3),sharex=False,sharey=False)\n",
    "\n",
    "plt.plot()"
   ]
  },
  {
   "cell_type": "markdown",
   "id": "b35cb29e-db0c-4efa-91f8-6851be18f506",
   "metadata": {},
   "source": [
    "# Data Selection"
   ]
  },
  {
   "cell_type": "code",
   "execution_count": null,
   "id": "c66ab336",
   "metadata": {},
   "outputs": [],
   "source": [
    "import pandas as pd\n",
    "from sklearn.feature_selection import RFE\n",
    "from sklearn.linear_model import LogisticRegression\n",
    "from sklearn.preprocessing import OneHotEncoder\n",
    "\n",
    "filename = \"ILPD.csv\"\n",
    "col_names = ['age', 'gen', 'tbili', 'dbili', 'alkphos', 'sgpt',\n",
    "             'sgot', 'tp', 'alb', 'ag', 'class']\n",
    "\n",
    "# Load dataset\n",
    "data = pd.read_csv(filename, names=col_names)\n",
    "data.fillna(0, inplace=True)\n",
    "\n",
    "# Separate input and output\n",
    "X_raw = data[data.columns[:-1]]\n",
    "y = data['class']\n",
    "\n",
    "# Apply OneHotEncoder to 'gen' column\n",
    "try:\n",
    "    encoder = OneHotEncoder(sparse_output=False)  # sklearn >= 1.2\n",
    "except TypeError:\n",
    "    encoder = OneHotEncoder(sparse=False)        # sklearn < 1.2\n",
    "\n",
    "encoded = encoder.fit_transform(X_raw[['gen']])\n",
    "encoded_df = pd.DataFrame(encoded, columns=encoder.get_feature_names_out(['gen']))\n",
    "\n",
    "# Merge numerical + encoded categorical variables\n",
    "X = pd.concat([X_raw.drop(columns=['gen']).reset_index(drop=True),\n",
    "               encoded_df.reset_index(drop=True)], axis=1)\n",
    "\n",
    "# Define base model\n",
    "logReg = LogisticRegression(solver=\"liblinear\")\n",
    "\n",
    "# Apply RFE\n",
    "rfe = RFE(logReg)\n",
    "rfe_model = rfe.fit(X, y)\n",
    "\n",
    "# Show results\n",
    "print(\"Number of features selected: \", rfe_model.n_features_)\n",
    "print(\"Support (True=selected): \", rfe_model.support_)\n",
    "print(\"Ranking: \", rfe_model.ranking_)\n",
    "\n",
    "# Optional: show results in a readable DataFrame\n",
    "features_ranking = pd.DataFrame({\n",
    "    \"Feature\": X.columns,\n",
    "    \"Selected\": rfe_model.support_,\n",
    "    \"Ranking\": rfe_model.ranking_\n",
    "})\n",
    "print(\"\\nFeature ranking:\\n\", features_ranking)\n"
   ]
  },
  {
   "cell_type": "code",
   "execution_count": null,
   "id": "566f5430",
   "metadata": {},
   "outputs": [],
   "source": [
    "print(input_data.head())"
   ]
  },
  {
   "cell_type": "markdown",
   "id": "3aecc9a8-4aa5-4f79-8774-06babb935e17",
   "metadata": {},
   "source": [
    "# Missing Values"
   ]
  },
  {
   "cell_type": "code",
   "execution_count": null,
   "id": "c233e2f3",
   "metadata": {},
   "outputs": [],
   "source": [
    "import pandas as pd\n",
    "import numpy as np\n",
    "\n",
    "filename = 'mammographic_masses.data'\n",
    "col_names = ['BI-RADS','Age','Shape','Margin','Density','Severity']\n",
    "data = pd.read_csv(filename, names=col_names)\n",
    "data[data == '?'] = np.nan\n",
    "\n",
    "print(data.isnull().sum())\n",
    "print(data.isna().sum())\n",
    "data.isnull()\n"
   ]
  },
  {
   "cell_type": "markdown",
   "id": "09c781e9-f349-4d53-b5c3-875f711dddc4",
   "metadata": {},
   "source": [
    "# Data Transformation"
   ]
  },
  {
   "cell_type": "code",
   "execution_count": null,
   "id": "652b3310",
   "metadata": {},
   "outputs": [],
   "source": [
    "import pandas as pd\n",
    "from sklearn.preprocessing import OneHotEncoder\n",
    "\n",
    "filename = 'ILPD.csv'\n",
    "col_names = ['age', 'gen', 'tbili', 'dbili', 'alkphos', 'sgpt',\n",
    "             'sgot', 'tp', 'alb', 'ag', 'class']\n",
    "\n",
    "# Load dataset\n",
    "data = pd.read_csv(filename, names=col_names)\n",
    "\n",
    "# Split input variables\n",
    "input_data = data[data.columns[:-1]]\n",
    "print(\"Before OneHotEncoder:\\n\", input_data.head())\n",
    "\n",
    "# Define and apply OneHotEncoder to the 'gen' column\n",
    "# Try using sparse_output (new versions), fallback to sparse (old versions)\n",
    "try:\n",
    "    encoder = OneHotEncoder(sparse_output=False)  # scikit-learn >= 1.2\n",
    "except TypeError:\n",
    "    encoder = OneHotEncoder(sparse=False)        # scikit-learn < 1.2\n",
    "\n",
    "encoded = encoder.fit_transform(input_data[['gen']])\n",
    "\n",
    "# Convert to DataFrame with proper column names\n",
    "encoded_df = pd.DataFrame(encoded, columns=encoder.get_feature_names_out(['gen']))\n",
    "\n",
    "# Merge numeric columns with dummy variables\n",
    "input_data = pd.concat(\n",
    "    [input_data.drop(columns=['gen']).reset_index(drop=True),\n",
    "     encoded_df.reset_index(drop=True)], axis=1\n",
    ")\n",
    "\n",
    "print(\"\\nAfter OneHotEncoder:\\n\", input_data.head())"
   ]
  },
  {
   "cell_type": "code",
   "execution_count": null,
   "id": "3f225cab",
   "metadata": {},
   "outputs": [],
   "source": [
    "import pandas as pd\n",
    "from sklearn.preprocessing import OneHotEncoder, MinMaxScaler\n",
    "\n",
    "filename = 'ILPD.csv'\n",
    "col_names = ['age', 'gen', 'tbili', 'dbili', 'alkphos', 'sgpt',\n",
    "             'sgot', 'tp', 'alb', 'ag', 'class']\n",
    "\n",
    "# Load dataset\n",
    "data = pd.read_csv(filename, names=col_names)\n",
    "\n",
    "# Split input and output variables\n",
    "X_raw = data[data.columns[:-1]]\n",
    "Y = data['class']\n",
    "\n",
    "print(\"Before OneHotEncoder:\\n\", X_raw.head())\n",
    "\n",
    "# Apply OneHotEncoder to 'gen' column (compatible with different sklearn versions)\n",
    "try:\n",
    "    encoder = OneHotEncoder(sparse_output=False)  # scikit-learn >= 1.2\n",
    "except TypeError:\n",
    "    encoder = OneHotEncoder(sparse=False)        # scikit-learn < 1.2\n",
    "\n",
    "encoded = encoder.fit_transform(X_raw[['gen']])\n",
    "\n",
    "# Convert encoded array to DataFrame with proper column names\n",
    "encoded_df = pd.DataFrame(encoded, columns=encoder.get_feature_names_out(['gen']))\n",
    "\n",
    "# Merge numeric columns with dummy variables\n",
    "X = pd.concat([X_raw.drop(columns=['gen']).reset_index(drop=True),\n",
    "               encoded_df.reset_index(drop=True)], axis=1)\n",
    "\n",
    "print(\"\\nAfter OneHotEncoder:\\n\", X.head())\n",
    "\n",
    "# Scale all variables with MinMaxScaler\n",
    "minmaxSc = MinMaxScaler(feature_range=(0, 1))\n",
    "rescX = minmaxSc.fit_transform(X)\n",
    "\n",
    "# Convert scaled data back to DataFrame with same column names\n",
    "rescX_df = pd.DataFrame(rescX, columns=X.columns)\n",
    "\n",
    "print(\"\\nAfter MinMaxScaler (DataFrame):\\n\", rescX_df.head())\n",
    "\n"
   ]
  },
  {
   "cell_type": "code",
   "execution_count": null,
   "id": "2be468a7",
   "metadata": {},
   "outputs": [],
   "source": [
    "import pandas as pd\n",
    "from sklearn.preprocessing import OneHotEncoder, StandardScaler, RobustScaler\n",
    "\n",
    "filename = 'ILPD.csv'\n",
    "col_names = ['age', 'gen', 'tbili', 'dbili', 'alkphos', 'sgpt',\n",
    "             'sgot', 'tp', 'alb', 'ag', 'class']\n",
    "\n",
    "# Load dataset\n",
    "data = pd.read_csv(filename, names=col_names)\n",
    "\n",
    "# Split input and output\n",
    "X_raw = data[data.columns[:-1]]\n",
    "Y = data['class'].values\n",
    "\n",
    "# Apply OneHotEncoder to 'gen' column\n",
    "try:\n",
    "    encoder = OneHotEncoder(sparse_output=False)  # sklearn >= 1.2\n",
    "except TypeError:\n",
    "    encoder = OneHotEncoder(sparse=False)        # sklearn < 1.2\n",
    "\n",
    "encoded = encoder.fit_transform(X_raw[['gen']])\n",
    "\n",
    "# Convert encoded values into DataFrame\n",
    "encoded_df = pd.DataFrame(encoded, columns=encoder.get_feature_names_out(['gen']))\n",
    "\n",
    "# Merge numerical and encoded categorical variables\n",
    "X = pd.concat([X_raw.drop(columns=['gen']).reset_index(drop=True),\n",
    "               encoded_df.reset_index(drop=True)], axis=1)\n",
    "\n",
    "print(\"After OneHotEncoder:\\n\", X.head())\n",
    "\n",
    "# Convert to numpy arrays\n",
    "X_values = X.values\n",
    "\n",
    "# StandardScaler\n",
    "stdScaler = StandardScaler().fit(X_values)\n",
    "rescX_std = stdScaler.transform(X_values)\n",
    "print(\"\\nAfter StandardScaler:\\n\", rescX_std[:5])\n",
    "\n",
    "# RobustScaler\n",
    "robScaler = RobustScaler().fit(X_values)\n",
    "rescX_rob = robScaler.transform(X_values)\n",
    "print(\"\\nAfter RobustScaler:\\n\", rescX_rob[:5])"
   ]
  },
  {
   "cell_type": "markdown",
   "id": "c1db0bcd-cbfd-4509-ab03-261199d51be8",
   "metadata": {},
   "source": [
    "# Dimensionality Reduction"
   ]
  },
  {
   "cell_type": "code",
   "execution_count": null,
   "id": "d03b29ef",
   "metadata": {},
   "outputs": [],
   "source": [
    "import matplotlib.pyplot as plt\n",
    "from sklearn import datasets\n",
    "from sklearn.decomposition import PCA\n",
    "\n",
    "iris = datasets.load_iris()\n",
    "X = iris.data\n",
    "y = iris.target\n",
    "target_names = iris.target_names\n",
    "\n",
    "pca = PCA(n_components=2)\n",
    "X_r = pca.fit(X).transform(X)\n",
    "print('Explained variance: ', pca.explained_variance_ratio_)\n",
    "\n",
    "plt.figure()\n",
    "colors = ['indigo','lightseagreen','gold']\n",
    "lw = 2\n",
    "for color, i, target_name in zip(colors, [0, 1, 2], target_names):\n",
    "    plt.scatter(X_r[y == i, 0], X_r[y == i, 1], color=color, alpha=.8, lw=lw, label=target_name)\n",
    "plt.legend(loc='best', scatterpoints=1)\n",
    "plt.title('PCA of Iris dataset')\n",
    "plt.show()"
   ]
  },
  {
   "cell_type": "markdown",
   "id": "baa3fc0a-0234-438a-a0fd-261c1dec873f",
   "metadata": {},
   "source": [
    "# Imbalance Treatment"
   ]
  },
  {
   "cell_type": "code",
   "execution_count": null,
   "id": "21935557",
   "metadata": {},
   "outputs": [],
   "source": [
    "from collections import Counter\n",
    "from sklearn.datasets import make_classification\n",
    "from imblearn.over_sampling import SMOTE\n",
    "import matplotlib.pyplot as plt\n",
    "from numpy import where\n",
    "\n",
    "# generate imbalanced dataset (2D for easy visualization)\n",
    "X, y = make_classification(\n",
    "    n_samples=10000, n_features=2, n_redundant=0, \n",
    "    n_clusters_per_class=1, weights=[0.99], flip_y=0, random_state=1\n",
    ")\n",
    "\n",
    "# summarize class distribution\n",
    "counter = Counter(y)\n",
    "print(\"Before SMOTE:\", counter)\n",
    "\n",
    "# plot original dataset\n",
    "plt.figure(figsize=(12, 5))\n",
    "\n",
    "plt.subplot(1, 2, 1)\n",
    "for label, _ in counter.items():\n",
    "    row_ix = where(y == label)\n",
    "    plt.scatter(X[row_ix, 0], X[row_ix, 1], label=f\"Class {label}\", alpha=0.5)\n",
    "plt.title(\"Before SMOTE\")\n",
    "plt.legend()\n",
    "\n",
    "# apply SMOTE\n",
    "oversample = SMOTE()\n",
    "X_res, y_res = oversample.fit_resample(X, y)\n",
    "\n",
    "# summarize new class distribution\n",
    "counter_res = Counter(y_res)\n",
    "print(\"After SMOTE:\", counter_res)\n",
    "\n",
    "# plot resampled dataset\n",
    "plt.subplot(1, 2, 2)\n",
    "for label, _ in counter_res.items():\n",
    "    row_ix = where(y_res == label)\n",
    "    plt.scatter(X_res[row_ix, 0], X_res[row_ix, 1], label=f\"Class {label}\", alpha=0.5)\n",
    "plt.title(\"After SMOTE\")\n",
    "plt.legend()\n",
    "\n",
    "plt.show()\n"
   ]
  },
  {
   "cell_type": "code",
   "execution_count": null,
   "id": "36586950",
   "metadata": {},
   "outputs": [],
   "source": []
  }
 ],
 "metadata": {
  "kernelspec": {
   "display_name": "Python 3 (ipykernel)",
   "language": "python",
   "name": "python3"
  },
  "language_info": {
   "codemirror_mode": {
    "name": "ipython",
    "version": 3
   },
   "file_extension": ".py",
   "mimetype": "text/x-python",
   "name": "python",
   "nbconvert_exporter": "python",
   "pygments_lexer": "ipython3",
   "version": "3.12.4"
  }
 },
 "nbformat": 4,
 "nbformat_minor": 5
}
