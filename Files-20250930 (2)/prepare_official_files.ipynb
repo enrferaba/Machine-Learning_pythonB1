{
 "cells": [
  {
   "cell_type": "markdown",
   "metadata": {},
   "source": [
    "# Preparar el paquete oficial sin subir binarios\n",
    "Este cuaderno automatiza la preparación de la carpeta `files/`\n",
    "utilizando el paquete original del profesor (`Files-20251006.zip`).\n",
    "Puedes mantener el ZIP fuera de Git y ejecutar estas celdas\n",
    "cada vez que necesites reconstruir las imágenes de práctica."
   ]
  },
  {
   "cell_type": "markdown",
   "metadata": {},
   "source": [
    "1. Descarga `Files-20251006.zip` de la plataforma oficial.\n",
    "2. Copia el archivo dentro de `Files-20250930 (2)/`.\n",
    "3. Ejecuta la celda siguiente para regenerar `files/images/` y la carpeta\n",
    "   de salida `files/reduced_images/`.\n",
    "\nSi ya tienes `files/images/` en tu copia de trabajo no es necesario volver\n",
    "a ejecutar nada: el cuaderno detecta automáticamente ese caso."
   ]
  },
  {
   "cell_type": "code",
   "metadata": {},
   "execution_count": null,
   "outputs": [],
   "source": [
    "from pathlib import Path\n",
    "import tarfile\n",
    "import zipfile\n",
    "\n",
    "DATA_DIR = Path('Files-20250930 (2)')\n",
    "FILES_DIR = DATA_DIR / 'files'\n",
    "IMAGES_DIR = FILES_DIR / 'images'\n",
    "OUTPUT_DIR = FILES_DIR / 'reduced_images'\n",
    "ZIP_ARCHIVE = DATA_DIR / 'Files-20251006.zip'\n",
    "IMAGES_ARCHIVE = FILES_DIR / 'images.tar'\n",
    "\n",
    "def _extract_tar() -> None:\n",
    "    with tarfile.open(IMAGES_ARCHIVE, mode='r') as archive:\n",
    "        archive.extractall(path=FILES_DIR)\n",
    "    print(f'Extraído {IMAGES_ARCHIVE} → {IMAGES_DIR}')\n",
    "\n",
    "def _extract_zip() -> None:\n",
    "    with zipfile.ZipFile(ZIP_ARCHIVE) as bundle:\n",
    "        bundle.extractall(path=DATA_DIR)\n",
    "    print(f'Descomprimido {ZIP_ARCHIVE} → {FILES_DIR}')\n",
    "\n",
    "def prepare_official_files() -> Path:\n",
    "    FILES_DIR.mkdir(parents=True, exist_ok=True)\n",
    "    OUTPUT_DIR.mkdir(parents=True, exist_ok=True)\n",
    "\n",
    "    if IMAGES_DIR.exists() and any(IMAGES_DIR.iterdir()):\n",
    "        print('Las imágenes ya están disponibles:',\n",
    "              ', '.join(sorted(p.name for p in IMAGES_DIR.iterdir())))\n",
    "        return IMAGES_DIR\n",
    "\n",
    "    if IMAGES_ARCHIVE.exists():\n",
    "        _extract_tar()\n",
    "    elif ZIP_ARCHIVE.exists():\n",
    "        _extract_zip()\n",
    "        if IMAGES_ARCHIVE.exists():\n",
    "            _extract_tar()\n",
    "        else:\n",
    "            raise FileNotFoundError(\n",
    "                'El ZIP se ha descomprimido pero no contiene images.tar. '\n",
    "                'Revisa que sea el paquete oficial.'\n",
    "            )\n",
    "    else:\n",
    "        raise FileNotFoundError(\n",
    "            'No se encontró ni images.tar ni Files-20251006.zip. '\n",
    "            'Descarga el ZIP del campus virtual y colócalo junto a este cuaderno.'\n",
    "        )\n",
    "\n",
    "    OUTPUT_DIR.mkdir(parents=True, exist_ok=True)\n",
    "    if not any(IMAGES_DIR.iterdir()):\n",
    "        raise RuntimeError('No se pudieron extraer las imágenes de práctica.')\n",
    "\n",
    "    print('Preparación completada. Carpeta de salida lista en', OUTPUT_DIR)\n",
    "    return IMAGES_DIR\n",
    "\n",
    "prepare_official_files()\n"
   ]
  },
  {
   "cell_type": "markdown",
   "metadata": {},
   "source": [
    "Puedes verificar la integridad del ZIP oficial ejecutando la celda\n",
    "siguiente. Si todo va bien Python devolverá `None`."
   ]
  },
  {
   "cell_type": "code",
   "metadata": {},
   "execution_count": null,
   "outputs": [],
   "source": [
    "if ZIP_ARCHIVE.exists():\n",
    "    result = zipfile.ZipFile(ZIP_ARCHIVE).testzip()\n",
    "    print('Resultado del test:', result)\n",
    "else:\n",
    "    print('Coloca Files-20251006.zip para ejecutar esta comprobación.')\n"
   ]
  }
 ],
 "metadata": {
  "kernelspec": {
   "display_name": "Python 3",
   "language": "python",
   "name": "python3"
  },
  "language_info": {
   "name": "python",
   "version": "3.11"
  }
 },
 "nbformat": 4,
 "nbformat_minor": 5
}
